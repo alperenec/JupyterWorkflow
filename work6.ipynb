{
 "cells": [
  {
   "cell_type": "code",
   "execution_count": 4,
   "id": "f4ec4431",
   "metadata": {},
   "outputs": [
    {
     "name": "stdout",
     "output_type": "stream",
     "text": [
      "n:22\n",
      "22 sayısı asal değildir\n"
     ]
    }
   ],
   "source": [
    "n= int(input(\"n:\"))\n",
    "asal=1\n",
    "for i in range(2,n,1): #star,stop,step\n",
    "    if n%i == 0:\n",
    "        asal=0\n",
    "        break;\n",
    "        \n",
    "if asal==0:\n",
    "    print(n, \"sayısı asal değildir\")\n",
    "else:\n",
    "    print(n, \"sayısı asaldır\")"
   ]
  },
  {
   "cell_type": "code",
   "execution_count": 7,
   "id": "57ab3bb8",
   "metadata": {},
   "outputs": [
    {
     "name": "stdout",
     "output_type": "stream",
     "text": [
      "2\n",
      "3\n",
      "4\n"
     ]
    }
   ],
   "source": [
    "for i in range (2,5,1):\n",
    "    print(i)"
   ]
  },
  {
   "cell_type": "code",
   "execution_count": 8,
   "id": "c0155315",
   "metadata": {},
   "outputs": [
    {
     "name": "stdout",
     "output_type": "stream",
     "text": [
      "n=9\n",
      "3\n",
      "3\n"
     ]
    }
   ],
   "source": [
    "n=int(input(\"n=\"))\n",
    "Acarpan=2\n",
    "while n>1:\n",
    "    if n%Acarpan==0:\n",
    "        n=n/Acarpan\n",
    "        print(Acarpan)\n",
    "    else:\n",
    "        Acarpan=Acarpan+1"
   ]
  },
  {
   "cell_type": "code",
   "execution_count": 12,
   "id": "12fe1ca0",
   "metadata": {},
   "outputs": [
    {
     "name": "stdout",
     "output_type": "stream",
     "text": [
      "9\n",
      "[1, 4, 9, 16, 25, 36, 49, 64]\n"
     ]
    }
   ],
   "source": [
    "sayiStr = int(input())\n",
    "sayiKareList=[]\n",
    "for n in range(1,int(sayiStr)):\n",
    "    sayiKareList.append(n**2)\n",
    "print(sayiKareList)"
   ]
  },
  {
   "cell_type": "code",
   "execution_count": 22,
   "id": "c78f750f",
   "metadata": {},
   "outputs": [
    {
     "name": "stdout",
     "output_type": "stream",
     "text": [
      "5\n",
      "[1, 4, 9, 16]\n"
     ]
    }
   ],
   "source": [
    "sayiStr = (input())\n",
    "sayiKareList=[]\n",
    "if sayiStr.isdigit():\n",
    "    for n in range(1,int(sayiStr)):\n",
    "        sayiKareList.append(n**2)\n",
    "    print(sayiKareList)\n",
    "else:\n",
    "    print(\"Lütfen sayı değeri girin\")"
   ]
  },
  {
   "cell_type": "code",
   "execution_count": 5,
   "id": "8cd2623e",
   "metadata": {},
   "outputs": [
    {
     "name": "stdout",
     "output_type": "stream",
     "text": [
      "26,89,24,56\n",
      "[89, 56, 26, 24]\n",
      "30\n"
     ]
    }
   ],
   "source": [
    "listeStr = input()\n",
    "liste = list(map(int, listeStr.split(\",\")))       #map(int... tüm değerleri tamsayıya çevirir\n",
    "liste.sort(reverse=True)                              #sort küçükten büyüğe    sort+reverse büyükten küçüğe\n",
    "print(liste)\n",
    "print(liste[1]-liste[2])                                      #??"
   ]
  },
  {
   "cell_type": "code",
   "execution_count": 25,
   "id": "8e256921",
   "metadata": {},
   "outputs": [
    {
     "name": "stdout",
     "output_type": "stream",
     "text": [
      "55,33,54,45\n",
      "[55, 54, 45, 33]\n",
      "9\n"
     ]
    }
   ],
   "source": [
    "#Versiyon2                              \n",
    "listeStr=input()\n",
    "liste=[]\n",
    "#map\n",
    "for noStr in listeStr.split(\",\"):\n",
    "    liste.append(int(noStr))\n",
    "liste.sort(reverse=True)\n",
    "print(liste)\n",
    "print(liste[1]-liste[2])"
   ]
  },
  {
   "cell_type": "code",
   "execution_count": 34,
   "id": "80741e86",
   "metadata": {},
   "outputs": [
    {
     "name": "stdout",
     "output_type": "stream",
     "text": [
      "65,86,95,82,15,45\n",
      "[95, 86, 82, 65, 45, 15]\n",
      "4\n"
     ]
    }
   ],
   "source": [
    "#Versiyon3                        \n",
    "listeStr=input()\n",
    "liste=[]\n",
    "#map\n",
    "\n",
    "for noStr in listeStr.split(\",\"):\n",
    "    liste.append(int(noStr))\n",
    "    \n",
    "#sort\n",
    "for i in range(len(liste)):\n",
    "    for j in range(len(liste)):\n",
    "        if liste[i] > liste[j]:\n",
    "            liste[j],liste[i]=liste[i],liste[j]\n",
    "print(liste)\n",
    "print(liste[1]-liste[2])"
   ]
  },
  {
   "cell_type": "code",
   "execution_count": 15,
   "id": "7ba4bf2c",
   "metadata": {},
   "outputs": [
    {
     "name": "stdout",
     "output_type": "stream",
     "text": [
      "6,8,9,5,2\n",
      "[9, 8, 6, 5, 2]\n",
      "2\n"
     ]
    }
   ],
   "source": [
    "#Versiyon4                   \n",
    "inputStr = input()\n",
    "\n",
    "#split(\",\")\n",
    "listeStr=[\"\"]\n",
    "i = 0\n",
    "for ch in inputStr:\n",
    "    if ch == \",\":\n",
    "        listeStr.append(\"\")\n",
    "        i += 1\n",
    "        continue\n",
    "    listeStr[i] += ch\n",
    "\n",
    "#map\n",
    "liste=[]\n",
    "for noStr in listeStr:\n",
    "    liste.append(int(noStr))\n",
    "\n",
    "#sort\n",
    "for i in range(len(liste)):\n",
    "    for j in range(len(liste)):\n",
    "        if liste[i] > liste[j]:\n",
    "            liste[j],liste[i] = liste[i],liste[j]\n",
    "print(liste) \n",
    "print(liste[1]-liste[2])"
   ]
  },
  {
   "cell_type": "code",
   "execution_count": 37,
   "id": "a7b3b266",
   "metadata": {},
   "outputs": [
    {
     "name": "stdout",
     "output_type": "stream",
     "text": [
      "2\n",
      "ali 68 59 85 62\n",
      "ayşe 14 28 36 98 92\n",
      "ayşe\n",
      "ayşe 'nin not ortalaması 53.6\n"
     ]
    }
   ],
   "source": [
    "ogrenciSayisi = int(input())\n",
    "dictOgrenci = {}\n",
    "\n",
    "for i in range(ogrenciSayisi):\n",
    "    ogrenciStr = input()\n",
    "    tokens = ogrenciStr.split()\n",
    "    notList = []\n",
    "    for j in range(1,len(tokens)):\n",
    "        notList.append(float(tokens[j]))\n",
    "    dictOgrenci[tokens[0]]=notList\n",
    "    \n",
    "ogrenciAdi=input()\n",
    "\n",
    "print(ogrenciAdi + \" 'nin not ortalaması\", sum(dictOgrenci[ogrenciAdi]) / len(dictOgrenci[ogrenciAdi]))"
   ]
  },
  {
   "cell_type": "code",
   "execution_count": 32,
   "id": "6a48911a",
   "metadata": {},
   "outputs": [
    {
     "data": {
      "text/plain": [
       "'Ilık-ışık-süt-iç'"
      ]
     },
     "execution_count": 32,
     "metadata": {},
     "output_type": "execute_result"
    }
   ],
   "source": [
    "a = \"Ilık ışık süt iç\"\n",
    "liste = a.split(\" \")\n",
    "\"-\".join(liste)"
   ]
  },
  {
   "cell_type": "code",
   "execution_count": 38,
   "id": "9ce608c4",
   "metadata": {},
   "outputs": [
    {
     "data": {
      "text/plain": [
       "'Ilık-ışık-süt-iç'"
      ]
     },
     "execution_count": 38,
     "metadata": {},
     "output_type": "execute_result"
    }
   ],
   "source": [
    "b = \"Ilık ışık süt iç\"\n",
    "b.replace(\" \",\"-\")"
   ]
  },
  {
   "cell_type": "code",
   "execution_count": 39,
   "id": "8c86819d",
   "metadata": {},
   "outputs": [
    {
     "name": "stdout",
     "output_type": "stream",
     "text": [
      "Ilık-ışık-süt-iç\n"
     ]
    }
   ],
   "source": [
    "a = \"Ilık ışık süt iç\"\n",
    "oldChar = \" \"\n",
    "newChar = \"-\"\n",
    "\n",
    "sonuc = \"\"\n",
    "for ch in a:\n",
    "    if ch == oldChar:\n",
    "        sonuc = sonuc + newChar\n",
    "    else:\n",
    "        sonuc += ch\n",
    "print(sonuc)"
   ]
  },
  {
   "cell_type": "code",
   "execution_count": 40,
   "id": "2195b6b3",
   "metadata": {},
   "outputs": [
    {
     "name": "stdout",
     "output_type": "stream",
     "text": [
      "n=656\n",
      "6\n",
      "5\n",
      "6\n"
     ]
    }
   ],
   "source": [
    "n = int(input(\"n=\"))\n",
    "while n>0:\n",
    "    sonHane = int(n%10)\n",
    "    print(sonHane)\n",
    "    n=(n-sonHane)/10"
   ]
  },
  {
   "cell_type": "code",
   "execution_count": 51,
   "id": "271b2092",
   "metadata": {},
   "outputs": [
    {
     "name": "stdout",
     "output_type": "stream",
     "text": [
      "n=382\n",
      "48\n",
      "32\n",
      "6\n"
     ]
    }
   ],
   "source": [
    "n = int(input(\"n=\"))\n",
    "while n>9:         #tek haneden büyükse\n",
    "    carpim = 1\n",
    "    while n>0:\n",
    "        sonHane = int(n%10)\n",
    "        n=(n-sonHane)/10\n",
    "        carpim=carpim*sonHane\n",
    "    print(carpim)\n",
    "    n=carpim\n"
   ]
  },
  {
   "cell_type": "code",
   "execution_count": 53,
   "id": "3c4c5e62",
   "metadata": {},
   "outputs": [
    {
     "name": "stdout",
     "output_type": "stream",
     "text": [
      "n=10001\n",
      "17\n"
     ]
    }
   ],
   "source": [
    "#girilen 2li sayı tabanında sayıyı 10luk tabana dönüştürme\n",
    "n=int(input(\"n=\"))\n",
    "top=0\n",
    "basamak=0\n",
    "while n>0:\n",
    "    sonHane = int(n%10)\n",
    "    n=(n-sonHane)/10\n",
    "    top+=sonHane*(2**basamak)\n",
    "    basamak+=1\n",
    "print(top)"
   ]
  },
  {
   "cell_type": "code",
   "execution_count": 55,
   "id": "2a8a0d03",
   "metadata": {},
   "outputs": [
    {
     "name": "stdout",
     "output_type": "stream",
     "text": [
      "0    5\n",
      "5    4.0\n",
      "13.0    3.2\n",
      "19.4    2.5600000000000005\n",
      "24.52    2.0480000000000005\n",
      "28.616    1.6384000000000005\n",
      "31.8928    1.3107200000000006\n",
      "34.51424    1.0485760000000004\n",
      "36.611392    0.8388608000000004\n"
     ]
    }
   ],
   "source": [
    "h=5\n",
    "yol=0\n",
    "print(yol,\"  \",h)\n",
    "\n",
    "yol=yol+h\n",
    "h=h*0.8\n",
    "print(yol,\"  \",h)\n",
    "\n",
    "while h>1:\n",
    "    yol=yol+2*h\n",
    "    h=h*0.8\n",
    "    print(yol,\"  \",h)"
   ]
  },
  {
   "cell_type": "code",
   "execution_count": 1,
   "id": "b997ccea",
   "metadata": {},
   "outputs": [
    {
     "name": "stdout",
     "output_type": "stream",
     "text": [
      "İnönü Unıversity\n"
     ]
    },
    {
     "data": {
      "text/plain": [
       "16"
      ]
     },
     "execution_count": 1,
     "metadata": {},
     "output_type": "execute_result"
    }
   ],
   "source": [
    "#kullanıcıdan alınan string değerin uzunlugunu test eden kod\n",
    "val = input()\n",
    "len(val)"
   ]
  },
  {
   "cell_type": "code",
   "execution_count": 3,
   "id": "a7f783c9",
   "metadata": {},
   "outputs": [
    {
     "name": "stdout",
     "output_type": "stream",
     "text": [
      "İnönü\n",
      "5\n"
     ]
    }
   ],
   "source": [
    "val = input()\n",
    "length = 0\n",
    "for ch in val:\n",
    "    length += 1\n",
    "print(length)"
   ]
  },
  {
   "cell_type": "code",
   "execution_count": 6,
   "id": "2e704969",
   "metadata": {},
   "outputs": [
    {
     "name": "stdout",
     "output_type": "stream",
     "text": [
      "132\n",
      "sayı\n"
     ]
    }
   ],
   "source": [
    "#kullanıcıdan alınan string değer sayı mı, alfabe mi, alfanumerik mi\n",
    "#hangi sınıfa ait bulan kod yazın. sayı için:  (isdigit())         alfabe için: isalpha()     alfanumerik için: isalnum()\n",
    "\n",
    "val = input()\n",
    "if val.isdigit():\n",
    "    print(\"sayı\")\n",
    "elif val.isalpha():\n",
    "    print(\"alfabe\")\n",
    "elif val.isalnum():\n",
    "    print(\"alfanumerik\")\n",
    "else:\n",
    "    print(\"diğer\")"
   ]
  },
  {
   "cell_type": "code",
   "execution_count": 7,
   "id": "1f4e2736",
   "metadata": {},
   "outputs": [
    {
     "name": "stdout",
     "output_type": "stream",
     "text": [
      "132asd\n",
      "Alfanumerik\n"
     ]
    }
   ],
   "source": [
    "val = input()\n",
    "num_list = [\"0\",\"1\",\"2\",\"3\",\"4\",\"5\",\"6\",\"7\",\"8\"]\n",
    "char_list = [\"a\",\"A\",\"b\",\"B\",\"c\",\"C\",\"d\",\"D\"]\n",
    "is_num = False\n",
    "i_alpha = False\n",
    "is_other = False\n",
    "for ch in val:\n",
    "    if ch in num_list:\n",
    "        is_num = True\n",
    "    elif ch in char_list:\n",
    "        is_alpha = True\n",
    "    else:\n",
    "        İS_other = True\n",
    "if is_other:\n",
    "    print(\"Diğer\")\n",
    "elif is_num and is_alpha:\n",
    "    print(\"Alfanumerik\")\n",
    "elif is_num:\n",
    "    print(\"Sayı\")\n",
    "elif is_alpha:\n",
    "    print(\"Alfabe\")\n",
    "else:\n",
    "    print(\"Tespit edilemedi\")"
   ]
  },
  {
   "cell_type": "code",
   "execution_count": 10,
   "id": "17ceb38d",
   "metadata": {},
   "outputs": [
    {
     "name": "stdout",
     "output_type": "stream",
     "text": [
      "6456464\n",
      "Sayı\n"
     ]
    }
   ],
   "source": [
    "val = input()\n",
    "is_num = False\n",
    "is_alpha = False\n",
    "is_other = False\n",
    "for ch in val:\n",
    "    asci = ord(ch)\n",
    "    if asci >= ord(\"0\") and asci <= ord(\"9\"):\n",
    "        is_num = True\n",
    "    elif(asci >= ord(\"A\") and asci <= ord(\"Z\")) or (asci >= ord(\"a\") and asci <= ord(\"z\")):\n",
    "        is_alpha = True\n",
    "    else:\n",
    "        is_other = True\n",
    "if is_other:\n",
    "    print(\"Diğer\")\n",
    "elif is_num and is_alpha:\n",
    "    print(\"Alfanumerik\")\n",
    "elif is_num:\n",
    "    print(\"Sayı\")\n",
    "elif is_alpha:\n",
    "    print(\"Alfabe\")\n",
    "else:\n",
    "    print(\"Tespit edilemedi\")"
   ]
  },
  {
   "cell_type": "code",
   "execution_count": 19,
   "id": "1482af88",
   "metadata": {},
   "outputs": [
    {
     "name": "stdout",
     "output_type": "stream",
     "text": [
      "5\n",
      "*\n",
      "**\n",
      "***\n",
      "****\n",
      "*****\n"
     ]
    }
   ],
   "source": [
    "#verilen pozitif sayıya kadar yıldız çizdiren kodu yazın\n",
    "val = int(input())\n",
    "for i in range(1,val+1):\n",
    "    for j in range(i):\n",
    "        print(\"*\",end=\"\")\n",
    "    print(\"\\n\", end=\"\")"
   ]
  },
  {
   "cell_type": "code",
   "execution_count": 6,
   "id": "f4baafbd",
   "metadata": {},
   "outputs": [
    {
     "name": "stdout",
     "output_type": "stream",
     "text": [
      "5\n",
      "*\n",
      "**\n",
      "***\n",
      "****\n",
      "*****\n"
     ]
    }
   ],
   "source": [
    "#verilen pozitif sayıya kadar yıldız çizdiren kodu yazın\n",
    "val = int(input())\n",
    "for i in range(1,val+1):\n",
    "    print(\"*\"*i)"
   ]
  },
  {
   "cell_type": "code",
   "execution_count": 9,
   "id": "50f2952a",
   "metadata": {},
   "outputs": [
    {
     "name": "stdout",
     "output_type": "stream",
     "text": [
      "5\n",
      "*****\n",
      "****\n",
      "***\n",
      "**\n",
      "*\n"
     ]
    }
   ],
   "source": [
    "val = int(input())\n",
    "for i in range(val,0,-1):\n",
    "    print(\"*\"*i)"
   ]
  },
  {
   "cell_type": "code",
   "execution_count": 23,
   "id": "b748d2ec",
   "metadata": {},
   "outputs": [
    {
     "name": "stdout",
     "output_type": "stream",
     "text": [
      "5\n",
      "*****\n",
      "****\n",
      "***\n",
      "**\n",
      "*\n"
     ]
    }
   ],
   "source": [
    "val = int(input())\n",
    "for i in range(0,val):\n",
    "    print(\"*\"*(val-i))"
   ]
  },
  {
   "cell_type": "code",
   "execution_count": 25,
   "id": "6571a2f0",
   "metadata": {},
   "outputs": [
    {
     "name": "stdout",
     "output_type": "stream",
     "text": [
      "A:12 B:18 C:-9\n",
      "36\n"
     ]
    }
   ],
   "source": [
    "#A:12 B:18 C:-9\n",
    "val = input()\n",
    "muslukdeger = val.split()\n",
    "sonuc = 0.0\n",
    "for md in muslukdeger:\n",
    "    sonuc+=1/int(md.split(\":\")[1])\n",
    "sonuc=1/sonuc\n",
    "print(round(sonuc))"
   ]
  },
  {
   "cell_type": "code",
   "execution_count": 26,
   "id": "ad6cb5ba",
   "metadata": {},
   "outputs": [
    {
     "name": "stdout",
     "output_type": "stream",
     "text": [
      "A:12 B:18 C:-9\n",
      "['A', '12']\n",
      "['B', '18']\n",
      "['C', '-9']\n",
      "36\n"
     ]
    }
   ],
   "source": [
    "#A:12 B:18 C:-9\n",
    "val = input()\n",
    "muslukdeger = val.split()\n",
    "sonuc = 0.0\n",
    "for md in muslukdeger:\n",
    "    tmp=md.split(\":\")\n",
    "    print(tmp)\n",
    "    sonuc+=1/int(tmp[1])\n",
    "sonuc=1/sonuc\n",
    "print(round(sonuc))"
   ]
  },
  {
   "cell_type": "code",
   "execution_count": 30,
   "id": "ea73d9e0",
   "metadata": {},
   "outputs": [
    {
     "name": "stdout",
     "output_type": "stream",
     "text": [
      "44\n",
      "insan\n",
      "5\n",
      "mavi\n",
      "91\n",
      "alperen\n"
     ]
    }
   ],
   "source": [
    "liste=[44,\"insan\",5,\"mavi\",91,\"alperen\"]\n",
    "for i in range(0,6):\n",
    "    print(liste[i])"
   ]
  },
  {
   "cell_type": "code",
   "execution_count": 32,
   "id": "c8abc64a",
   "metadata": {},
   "outputs": [
    {
     "name": "stdout",
     "output_type": "stream",
     "text": [
      "A:12 B:18 C:-9\n",
      "36\n"
     ]
    }
   ],
   "source": [
    "#A:12 B:18 C:-9\n",
    "val = input()\n",
    "muslukdeger = val.split()\n",
    "sonuc = 0.0\n",
    "for md in muslukdeger:\n",
    "    sonuc+=1/int(md.split(\":\")[1])\n",
    "sonuc=1/sonuc\n",
    "print(round(sonuc))"
   ]
  },
  {
   "cell_type": "code",
   "execution_count": null,
   "id": "b6f4119e",
   "metadata": {},
   "outputs": [],
   "source": []
  }
 ],
 "metadata": {
  "kernelspec": {
   "display_name": "Python 3",
   "language": "python",
   "name": "python3"
  },
  "language_info": {
   "codemirror_mode": {
    "name": "ipython",
    "version": 3
   },
   "file_extension": ".py",
   "mimetype": "text/x-python",
   "name": "python",
   "nbconvert_exporter": "python",
   "pygments_lexer": "ipython3",
   "version": "3.8.8"
  }
 },
 "nbformat": 4,
 "nbformat_minor": 5
}
