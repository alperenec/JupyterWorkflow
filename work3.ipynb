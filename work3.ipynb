{
 "cells": [
  {
   "cell_type": "code",
   "execution_count": 1,
   "id": "49c0aaf4",
   "metadata": {},
   "outputs": [
    {
     "name": "stdout",
     "output_type": "stream",
     "text": [
      "Değişken değeri 100dür\n",
      "Görüşürüz\n"
     ]
    }
   ],
   "source": [
    "var=100\n",
    "if(var==100):\n",
    "    print(\"Değişken değeri 100dür\")\n",
    "print(\"Görüşürüz\")"
   ]
  },
  {
   "cell_type": "code",
   "execution_count": 3,
   "id": "e782f91f",
   "metadata": {},
   "outputs": [
    {
     "name": "stdout",
     "output_type": "stream",
     "text": [
      "False\n"
     ]
    }
   ],
   "source": [
    "x = \"5\"\n",
    "y = [\"10\",5,\"abc\",12]\n",
    "sonuc=x in y\n",
    "print(sonuc)"
   ]
  },
  {
   "cell_type": "code",
   "execution_count": 4,
   "id": "dbb006bc",
   "metadata": {},
   "outputs": [
    {
     "name": "stdout",
     "output_type": "stream",
     "text": [
      "True\n"
     ]
    }
   ],
   "source": [
    "x = 5\n",
    "y = [\"10\",5,\"abc\",12]\n",
    "sonuc=x in y\n",
    "print(sonuc)"
   ]
  },
  {
   "cell_type": "code",
   "execution_count": 5,
   "id": "c8bf7d19",
   "metadata": {},
   "outputs": [
    {
     "name": "stdout",
     "output_type": "stream",
     "text": [
      "True\n"
     ]
    }
   ],
   "source": [
    "x = 7\n",
    "y = [\"10\",5,\"abc\",12]\n",
    "sonuc=x not in y\n",
    "print(sonuc)"
   ]
  },
  {
   "cell_type": "code",
   "execution_count": 6,
   "id": "938a47ed",
   "metadata": {},
   "outputs": [
    {
     "name": "stdout",
     "output_type": "stream",
     "text": [
      "False\n"
     ]
    }
   ],
   "source": [
    "x = 12\n",
    "y = [\"10\",5,\"abc\",12]\n",
    "sonuc=x is y\n",
    "print(sonuc)"
   ]
  },
  {
   "cell_type": "code",
   "execution_count": 8,
   "id": "ad2f548b",
   "metadata": {},
   "outputs": [
    {
     "name": "stdout",
     "output_type": "stream",
     "text": [
      "True\n"
     ]
    }
   ],
   "source": [
    "x =7\n",
    "y =7\n",
    "sonuc=x is y\n",
    "print(sonuc)"
   ]
  },
  {
   "cell_type": "code",
   "execution_count": 9,
   "id": "983f3353",
   "metadata": {},
   "outputs": [
    {
     "name": "stdout",
     "output_type": "stream",
     "text": [
      "False\n"
     ]
    }
   ],
   "source": [
    "x =7\n",
    "y =7\n",
    "sonuc=x is not y\n",
    "print(sonuc)"
   ]
  },
  {
   "cell_type": "code",
   "execution_count": 11,
   "id": "d595c784",
   "metadata": {},
   "outputs": [
    {
     "name": "stdout",
     "output_type": "stream",
     "text": [
      "False\n"
     ]
    }
   ],
   "source": [
    "x =7\n",
    "y =7\n",
    "sonuc=x!= y\n",
    "print(sonuc)"
   ]
  },
  {
   "cell_type": "code",
   "execution_count": 12,
   "id": "4c00e9a0",
   "metadata": {},
   "outputs": [
    {
     "name": "stdout",
     "output_type": "stream",
     "text": [
      "True\n"
     ]
    }
   ],
   "source": [
    "x =7\n",
    "y =7\n",
    "sonuc=x== y\n",
    "print(sonuc)"
   ]
  },
  {
   "cell_type": "code",
   "execution_count": 13,
   "id": "443a1027",
   "metadata": {},
   "outputs": [
    {
     "name": "stdout",
     "output_type": "stream",
     "text": [
      "bir sayı girin:-9\n",
      "girilen sayı negatif\n"
     ]
    }
   ],
   "source": [
    "sayi=int(input(\"bir sayı girin:\"))\n",
    "if sayi>0:\n",
    "    print(\"girilen sayı pozitif\")\n",
    "if sayi<0:\n",
    "    print(\"girilen sayı negatif\")\n",
    "    "
   ]
  },
  {
   "cell_type": "code",
   "execution_count": 30,
   "id": "95ff43fe",
   "metadata": {},
   "outputs": [
    {
     "name": "stdout",
     "output_type": "stream",
     "text": [
      "bir sayı girin:0\n",
      "girilen sayı 0\n"
     ]
    }
   ],
   "source": [
    "sayi=int(input(\"bir sayı girin:\"))\n",
    "if sayi>0:  \n",
    "    print(\"girilen sayı pozitif\")\n",
    "else:\n",
    "    if sayi<0:\n",
    "        print(\"girilen sayı negatif\")\n",
    "    else:\n",
    "        print(\"girilen sayı 0\")\n"
   ]
  },
  {
   "cell_type": "code",
   "execution_count": 3,
   "id": "0519368f",
   "metadata": {},
   "outputs": [
    {
     "name": "stdout",
     "output_type": "stream",
     "text": [
      "vize notu gir:78\n",
      "final notu gir:44\n",
      "57.6\n",
      "Not= 57.6 Kaldınız\n"
     ]
    }
   ],
   "source": [
    "vize=int(input(\"vize notu gir:\"))\n",
    "final=int(input(\"final notu gir:\"))\n",
    "Not = vize*0.4+final*0.6\n",
    "print(Not)\n",
    "if Not>60:\n",
    "    print(\"Not=\",Not,\"Geçtiniz\")\n",
    "else:\n",
    "    print(\"Not=\",Not,\"Kaldınız\")"
   ]
  },
  {
   "cell_type": "code",
   "execution_count": 4,
   "id": "fa328911",
   "metadata": {},
   "outputs": [
    {
     "name": "stdout",
     "output_type": "stream",
     "text": [
      "sayı gir:8\n",
      "Sayı 6ya tam bölünmüyor\n"
     ]
    }
   ],
   "source": [
    "sayi=int(input(\"sayı gir:\"))\n",
    "kalan=sayi%6\n",
    "if kalan ==0:\n",
    "    print(\"Sayı 6ya tam bölünüyor.\")\n",
    "else:\n",
    "    print(\"Sayı 6ya tam bölünmüyor\")"
   ]
  },
  {
   "cell_type": "code",
   "execution_count": 5,
   "id": "ee445f75",
   "metadata": {},
   "outputs": [
    {
     "name": "stdout",
     "output_type": "stream",
     "text": [
      "sayı gir:14\n",
      "Sayı 6ya tam bölünmüyor\n"
     ]
    }
   ],
   "source": [
    "sayi=int(input(\"sayı gir:\"))\n",
    "kalan1=sayi%2\n",
    "kalan2=sayi%3\n",
    "if kalan1 and kalan2 ==0:\n",
    "    print(\"Sayı 6ya tam bölünüyor.\")\n",
    "else:\n",
    "    print(\"Sayı 6ya tam bölünmüyor\")"
   ]
  },
  {
   "cell_type": "code",
   "execution_count": 8,
   "id": "6bae4554",
   "metadata": {},
   "outputs": [
    {
     "name": "stdout",
     "output_type": "stream",
     "text": [
      "sayı gir:14\n",
      "Sayı 6ya tam bölünmüyor\n"
     ]
    }
   ],
   "source": [
    "sayi=int(input(\"sayı gir:\"))\n",
    "kalan1=sayi%2\n",
    "kalan2=sayi%3\n",
    "if (kalan1==0) & (kalan2==0):\n",
    "    print(\"Sayı 6ya tam bölünüyor.\")\n",
    "else:\n",
    "    print(\"Sayı 6ya tam bölünmüyor\")"
   ]
  },
  {
   "cell_type": "code",
   "execution_count": 9,
   "id": "0e50bfe9",
   "metadata": {},
   "outputs": [
    {
     "name": "stdout",
     "output_type": "stream",
     "text": [
      "sayı gir:16\n",
      "Sayı 6ya tam bölünmüyor\n"
     ]
    }
   ],
   "source": [
    "sayi=int(input(\"sayı gir:\"))\n",
    "bolum=sayi/6\n",
    "if type(bolum) == \"float\":\n",
    "    print(\"Sayı 6ya tam bölünüyor.\")\n",
    "else:\n",
    "    print(\"Sayı 6ya tam bölünmüyor\")"
   ]
  },
  {
   "cell_type": "code",
   "execution_count": 11,
   "id": "d2403321",
   "metadata": {},
   "outputs": [],
   "source": []
  },
  {
   "cell_type": "code",
   "execution_count": null,
   "id": "856b60a2",
   "metadata": {},
   "outputs": [],
   "source": []
  }
 ],
 "metadata": {
  "kernelspec": {
   "display_name": "Python 3",
   "language": "python",
   "name": "python3"
  },
  "language_info": {
   "codemirror_mode": {
    "name": "ipython",
    "version": 3
   },
   "file_extension": ".py",
   "mimetype": "text/x-python",
   "name": "python",
   "nbconvert_exporter": "python",
   "pygments_lexer": "ipython3",
   "version": "3.8.8"
  }
 },
 "nbformat": 4,
 "nbformat_minor": 5
}
