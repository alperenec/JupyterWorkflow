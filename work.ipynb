{
 "cells": [
  {
   "cell_type": "code",
   "execution_count": 1,
   "id": "1f4ae12a",
   "metadata": {},
   "outputs": [
    {
     "name": "stdout",
     "output_type": "stream",
     "text": [
      "Hello World!\n"
     ]
    }
   ],
   "source": [
    "print(\"Hello World!\")"
   ]
  },
  {
   "cell_type": "code",
   "execution_count": 5,
   "id": "ae49995c",
   "metadata": {},
   "outputs": [
    {
     "name": "stdout",
     "output_type": "stream",
     "text": [
      "Adınızı girin: alperen\n"
     ]
    }
   ],
   "source": [
    "x = input(\"Adınızı girin: \")"
   ]
  },
  {
   "cell_type": "code",
   "execution_count": 6,
   "id": "dd492e27",
   "metadata": {},
   "outputs": [
    {
     "name": "stdout",
     "output_type": "stream",
     "text": [
      "alperen\n"
     ]
    }
   ],
   "source": [
    "print(x)"
   ]
  },
  {
   "cell_type": "code",
   "execution_count": 43,
   "id": "2086947a",
   "metadata": {},
   "outputs": [
    {
     "name": "stdout",
     "output_type": "stream",
     "text": [
      "10.65 ve 11\n"
     ]
    }
   ],
   "source": [
    "x=10.65\n",
    "y=round(x);\n",
    "print(x,\"ve\", y)\n"
   ]
  },
  {
   "cell_type": "code",
   "execution_count": 12,
   "id": "d856e5e7",
   "metadata": {},
   "outputs": [
    {
     "name": "stdout",
     "output_type": "stream",
     "text": [
      "10.66\n"
     ]
    }
   ],
   "source": [
    "x=10.6597\n",
    "y=round(x,3);\n",
    "print(y)"
   ]
  },
  {
   "cell_type": "code",
   "execution_count": 18,
   "id": "8bef29c3",
   "metadata": {},
   "outputs": [
    {
     "data": {
      "text/plain": [
       "float"
      ]
     },
     "execution_count": 18,
     "metadata": {},
     "output_type": "execute_result"
    }
   ],
   "source": [
    "type(x)"
   ]
  },
  {
   "cell_type": "code",
   "execution_count": 25,
   "id": "039ddeac",
   "metadata": {},
   "outputs": [
    {
     "name": "stdout",
     "output_type": "stream",
     "text": [
      "1\n",
      "4084101\n",
      "105\n",
      "4.2\n",
      "4\n"
     ]
    }
   ],
   "source": [
    "x=21\n",
    "y=5\n",
    "print(x%y)\n",
    "print(x**y)\n",
    "print(x*y)\n",
    "print(x/y)\n",
    "print(x//y)"
   ]
  },
  {
   "cell_type": "code",
   "execution_count": 36,
   "id": "7591ebe6",
   "metadata": {},
   "outputs": [
    {
     "name": "stdout",
     "output_type": "stream",
     "text": [
      "Hello World!\n",
      "ello\n",
      "o World!\n",
      "r\n",
      "Hello World!Hello World!\n",
      "elloTEST\n"
     ]
    }
   ],
   "source": [
    "str = \"Hello World!\"\n",
    "print(str)\n",
    "print(str[1:5])\n",
    "print(str[4:])\n",
    "print(str[8])\n",
    "print(str * 2)\n",
    "print(str[1:5] + \"TEST\")"
   ]
  },
  {
   "cell_type": "code",
   "execution_count": 41,
   "id": "c4e543fc",
   "metadata": {},
   "outputs": [
    {
     "name": "stdout",
     "output_type": "stream",
     "text": [
      "['abcd', 786, 2.77, 'alper', 31]\n",
      "abcd\n",
      "[786, 2.77, 'alper']\n",
      "alper\n",
      "['alper', 31]\n",
      "['abcd', 123, 'abcd', 123]\n",
      "['abcd', 786, 2.77, 'alper', 31, 'abcd', 123]\n"
     ]
    }
   ],
   "source": [
    "list = [\"abcd\", 786, 2.77, \"alper\", 31]\n",
    "tinylist = [\"abcd\", 123]\n",
    "\n",
    "print(list)\n",
    "print(list[0])\n",
    "print(list[1:4])\n",
    "print(list[3])\n",
    "print(list[3:])\n",
    "print(tinylist*2)\n",
    "print(list+tinylist)"
   ]
  },
  {
   "cell_type": "code",
   "execution_count": 55,
   "id": "8d5b4181",
   "metadata": {},
   "outputs": [
    {
     "name": "stdout",
     "output_type": "stream",
     "text": [
      "I like bananas , I like apples too\n"
     ]
    }
   ],
   "source": [
    "txt = \"I like bananas\"\n",
    "x=txt.replace(\"bananas\",\"apples\")\n",
    "print(txt,\",\", x,\"too\")"
   ]
  },
  {
   "cell_type": "code",
   "execution_count": 46,
   "id": "89a69501",
   "metadata": {},
   "outputs": [
    {
     "name": "stdout",
     "output_type": "stream",
     "text": [
      "10.65 ve 11\n"
     ]
    },
    {
     "ename": "NameError",
     "evalue": "name 'y' is not defined",
     "output_type": "error",
     "traceback": [
      "\u001b[1;31m---------------------------------------------------------------------------\u001b[0m",
      "\u001b[1;31mNameError\u001b[0m                                 Traceback (most recent call last)",
      "\u001b[1;32m<ipython-input-46-0cf328ae38ed>\u001b[0m in \u001b[0;36m<module>\u001b[1;34m\u001b[0m\n\u001b[0;32m      3\u001b[0m \u001b[0mprint\u001b[0m\u001b[1;33m(\u001b[0m\u001b[0mx\u001b[0m\u001b[1;33m,\u001b[0m\u001b[1;34m\"ve\"\u001b[0m\u001b[1;33m,\u001b[0m \u001b[0my\u001b[0m\u001b[1;33m)\u001b[0m\u001b[1;33m\u001b[0m\u001b[1;33m\u001b[0m\u001b[0m\n\u001b[0;32m      4\u001b[0m \u001b[1;32mdel\u001b[0m \u001b[0my\u001b[0m\u001b[1;33m\u001b[0m\u001b[1;33m\u001b[0m\u001b[0m\n\u001b[1;32m----> 5\u001b[1;33m \u001b[0mprint\u001b[0m\u001b[1;33m(\u001b[0m\u001b[0mx\u001b[0m\u001b[1;33m,\u001b[0m \u001b[0my\u001b[0m\u001b[1;33m)\u001b[0m\u001b[1;33m\u001b[0m\u001b[1;33m\u001b[0m\u001b[0m\n\u001b[0m",
      "\u001b[1;31mNameError\u001b[0m: name 'y' is not defined"
     ]
    }
   ],
   "source": [
    "x=10.65\n",
    "y=round(x);\n",
    "print(x,\"ve\", y)\n",
    "del y\n",
    "print(x, y)"
   ]
  },
  {
   "cell_type": "code",
   "execution_count": 47,
   "id": "bfea89ea",
   "metadata": {},
   "outputs": [
    {
     "name": "stdout",
     "output_type": "stream",
     "text": [
      "slm cnm\n"
     ]
    }
   ],
   "source": [
    "print(\"slm cnm\")"
   ]
  },
  {
   "cell_type": "code",
   "execution_count": 62,
   "id": "9f8b477c",
   "metadata": {},
   "outputs": [
    {
     "name": "stdout",
     "output_type": "stream",
     "text": [
      "this is one\n",
      "this is two\n",
      "{'name': 'alper', 'code': '6454', 'dept': 'sales'}\n",
      "dict_keys(['name', 'code', 'dept'])\n",
      "dict_values(['alper', '6454', 'sales'])\n"
     ]
    }
   ],
   "source": [
    "dict = {}\n",
    "dict[\"one\"]=\"this is one\"\n",
    "dict[2]=\"this is two\"\n",
    "tinydict={\"name\":\"alper\",\"code\":\"6454\",\"dept\":\"sales\"}\n",
    "\n",
    "print(dict[\"one\"])\n",
    "print(dict[2])\n",
    "print(tinydict)\n",
    "print(tinydict.keys())\n",
    "print(tinydict.values())\n",
    "\n"
   ]
  },
  {
   "cell_type": "code",
   "execution_count": 69,
   "id": "9683c352",
   "metadata": {},
   "outputs": [
    {
     "name": "stdout",
     "output_type": "stream",
     "text": [
      "['__doc__', '__loader__', '__name__', '__package__', '__spec__', 'acos', 'acosh', 'asin', 'asinh', 'atan', 'atan2', 'atanh', 'ceil', 'comb', 'copysign', 'cos', 'cosh', 'degrees', 'dist', 'e', 'erf', 'erfc', 'exp', 'expm1', 'fabs', 'factorial', 'floor', 'fmod', 'frexp', 'fsum', 'gamma', 'gcd', 'hypot', 'inf', 'isclose', 'isfinite', 'isinf', 'isnan', 'isqrt', 'ldexp', 'lgamma', 'log', 'log10', 'log1p', 'log2', 'modf', 'nan', 'perm', 'pi', 'pow', 'prod', 'radians', 'remainder', 'sin', 'sinh', 'sqrt', 'tan', 'tanh', 'tau', 'trunc']\n"
     ]
    }
   ],
   "source": [
    "import math\n",
    "\n",
    "content = dir(math)\n",
    "print (content)"
   ]
  },
  {
   "cell_type": "code",
   "execution_count": 71,
   "id": "9c931af9",
   "metadata": {},
   "outputs": [
    {
     "name": "stdout",
     "output_type": "stream",
     "text": [
      "HelloWorld\n",
      "Hello, World, Whats, Up\n"
     ]
    }
   ],
   "source": [
    "print('Hello'+'World')\n",
    "print('Hello','World','Whats','Up',sep=', ')"
   ]
  },
  {
   "cell_type": "code",
   "execution_count": 74,
   "id": "780ac6b5",
   "metadata": {},
   "outputs": [
    {
     "name": "stdout",
     "output_type": "stream",
     "text": [
      "<class 'str'>\n"
     ]
    }
   ],
   "source": [
    "hello= \"Hello World Whats Up\"\n",
    "print(type(hello))"
   ]
  },
  {
   "cell_type": "code",
   "execution_count": 77,
   "id": "594cfc5b",
   "metadata": {},
   "outputs": [
    {
     "name": "stdout",
     "output_type": "stream",
     "text": [
      "<class 'str'>\n"
     ]
    }
   ],
   "source": [
    "number='123456'\n",
    "print(type(number))"
   ]
  },
  {
   "cell_type": "code",
   "execution_count": 85,
   "id": "2541fece",
   "metadata": {},
   "outputs": [
    {
     "name": "stdout",
     "output_type": "stream",
     "text": [
      "Hello Babe!!! \n",
      "Hello Babe\n"
     ]
    }
   ],
   "source": [
    "print(\"Hello\",\"Babe\", sep=' ',end=\"!!! \\n\")\n",
    "print(\"Hello\",\"Babe\")"
   ]
  },
  {
   "cell_type": "code",
   "execution_count": 96,
   "id": "15b0c29c",
   "metadata": {},
   "outputs": [
    {
     "name": "stdout",
     "output_type": "stream",
     "text": [
      "[1, 2, 3, 4]\n",
      "[6, 7, 8, 9]\n",
      "[3, 4, 5, 6, 7]\n",
      "[1, 2, 3, 4, 5, 6, 7, 8, 9, 10]\n"
     ]
    }
   ],
   "source": [
    "list1=[1,2,3,4,5,6,7,8,9]\n",
    "print(list1[:4])\n",
    "print(list1[5:])\n",
    "print(list1[2:7])"
   ]
  },
  {
   "cell_type": "code",
   "execution_count": 99,
   "id": "3a29ef5a",
   "metadata": {},
   "outputs": [
    {
     "name": "stdout",
     "output_type": "stream",
     "text": [
      "[1, 3, 4, 5, 6, 7, 8, 9, 10, 10, 10]\n"
     ]
    }
   ],
   "source": [
    "list1.append(10)\n",
    "print(list1)"
   ]
  },
  {
   "cell_type": "code",
   "execution_count": 98,
   "id": "1b2fe526",
   "metadata": {},
   "outputs": [
    {
     "name": "stdout",
     "output_type": "stream",
     "text": [
      "[1, 3, 4, 5, 6, 7, 8, 9, 10, 10]\n"
     ]
    }
   ],
   "source": [
    "list1.remove(2)\n",
    "print(list1)"
   ]
  },
  {
   "cell_type": "code",
   "execution_count": 102,
   "id": "fe2ad989",
   "metadata": {},
   "outputs": [
    {
     "name": "stdout",
     "output_type": "stream",
     "text": [
      "[6, 7, 8, 9, 10, 10, 10]\n"
     ]
    }
   ],
   "source": [
    "del list1[0:4]\n",
    "print(list1)"
   ]
  },
  {
   "cell_type": "code",
   "execution_count": 107,
   "id": "d2f00092",
   "metadata": {},
   "outputs": [
    {
     "name": "stdout",
     "output_type": "stream",
     "text": [
      "[1, 2, 3, 4, 5, 6, 7, 8, 9, 10, 11, 'abc']\n"
     ]
    }
   ],
   "source": [
    "list1=[1,2,3,4,5,6,7,8,9,10]\n",
    "list1.append(11,)\n",
    "list1.append('abc')\n",
    "print(list1)"
   ]
  },
  {
   "cell_type": "code",
   "execution_count": 117,
   "id": "a11dd05b",
   "metadata": {},
   "outputs": [
    {
     "name": "stdout",
     "output_type": "stream",
     "text": [
      "{'a': '132', 'b': 'asd'}\n",
      "132\n",
      "{'a': '132', 'b': 'asd', 'c': 7}\n"
     ]
    }
   ],
   "source": [
    "dictVal={'a':'132','b':'asd'}\n",
    "\n",
    "print(dictVal)\n",
    "print(dictVal['a'])\n",
    "\n",
    "dictVal['c']=7\n",
    "print(dictVal)"
   ]
  },
  {
   "cell_type": "code",
   "execution_count": 118,
   "id": "54f8d206",
   "metadata": {},
   "outputs": [
    {
     "name": "stdout",
     "output_type": "stream",
     "text": [
      "{'a': '132', 'c': 7}\n"
     ]
    }
   ],
   "source": [
    "del dictVal['b']\n",
    "print(dictVal)"
   ]
  },
  {
   "cell_type": "code",
   "execution_count": 120,
   "id": "ece8f6ae",
   "metadata": {},
   "outputs": [
    {
     "name": "stdout",
     "output_type": "stream",
     "text": [
      "True\n"
     ]
    }
   ],
   "source": [
    "boolVal = True\n",
    "print(boolVal)"
   ]
  },
  {
   "cell_type": "code",
   "execution_count": 121,
   "id": "ed4e8039",
   "metadata": {},
   "outputs": [
    {
     "name": "stdout",
     "output_type": "stream",
     "text": [
      "<class 'bytes'>\n"
     ]
    }
   ],
   "source": [
    "byteVal=b\"Hello\"\n",
    "print(type(byteVal))"
   ]
  },
  {
   "cell_type": "code",
   "execution_count": 122,
   "id": "015c94d5",
   "metadata": {},
   "outputs": [
    {
     "name": "stdout",
     "output_type": "stream",
     "text": [
      "48656c6c6f\n"
     ]
    }
   ],
   "source": [
    "print(byteVal.hex())"
   ]
  },
  {
   "cell_type": "code",
   "execution_count": 126,
   "id": "be679051",
   "metadata": {},
   "outputs": [
    {
     "name": "stdout",
     "output_type": "stream",
     "text": [
      "no1 value:123465\n"
     ]
    }
   ],
   "source": [
    "no1=123465\n",
    "str1 = f'no1 value:{no1}'\n",
    "print(str1)"
   ]
  },
  {
   "cell_type": "code",
   "execution_count": 127,
   "id": "ba1f0095",
   "metadata": {},
   "outputs": [
    {
     "name": "stdout",
     "output_type": "stream",
     "text": [
      "97\n",
      "98\n"
     ]
    }
   ],
   "source": [
    "cha='a'\n",
    "chb='b'\n",
    "print(ord(cha))\n",
    "print(ord(chb))"
   ]
  },
  {
   "cell_type": "code",
   "execution_count": 128,
   "id": "4299e8fa",
   "metadata": {},
   "outputs": [
    {
     "name": "stdout",
     "output_type": "stream",
     "text": [
      "65\n"
     ]
    }
   ],
   "source": [
    "print(ord('A'))"
   ]
  },
  {
   "cell_type": "code",
   "execution_count": 131,
   "id": "0fce29c8",
   "metadata": {},
   "outputs": [],
   "source": [
    "import math"
   ]
  },
  {
   "cell_type": "code",
   "execution_count": 132,
   "id": "129b3978",
   "metadata": {},
   "outputs": [
    {
     "name": "stdout",
     "output_type": "stream",
     "text": [
      "23\n"
     ]
    }
   ],
   "source": [
    "print(round(23.43))"
   ]
  },
  {
   "cell_type": "code",
   "execution_count": 134,
   "id": "4b441e61",
   "metadata": {},
   "outputs": [
    {
     "name": "stdout",
     "output_type": "stream",
     "text": [
      "77\n"
     ]
    }
   ],
   "source": [
    "print(abs(-77))"
   ]
  },
  {
   "cell_type": "code",
   "execution_count": 138,
   "id": "feb91840",
   "metadata": {},
   "outputs": [
    {
     "data": {
      "text/plain": [
       "8.0"
      ]
     },
     "execution_count": 138,
     "metadata": {},
     "output_type": "execute_result"
    }
   ],
   "source": [
    "math.pow(2,3)"
   ]
  },
  {
   "cell_type": "code",
   "execution_count": 141,
   "id": "431e449f",
   "metadata": {},
   "outputs": [
    {
     "data": {
      "text/plain": [
       "24"
      ]
     },
     "execution_count": 141,
     "metadata": {},
     "output_type": "execute_result"
    }
   ],
   "source": [
    "math.ceil(23.4)"
   ]
  },
  {
   "cell_type": "code",
   "execution_count": 143,
   "id": "ad2e5e04",
   "metadata": {},
   "outputs": [
    {
     "name": "stdout",
     "output_type": "stream",
     "text": [
      "['__doc__', '__loader__', '__name__', '__package__', '__spec__', 'acos', 'acosh', 'asin', 'asinh', 'atan', 'atan2', 'atanh', 'ceil', 'comb', 'copysign', 'cos', 'cosh', 'degrees', 'dist', 'e', 'erf', 'erfc', 'exp', 'expm1', 'fabs', 'factorial', 'floor', 'fmod', 'frexp', 'fsum', 'gamma', 'gcd', 'hypot', 'inf', 'isclose', 'isfinite', 'isinf', 'isnan', 'isqrt', 'ldexp', 'lgamma', 'log', 'log10', 'log1p', 'log2', 'modf', 'nan', 'perm', 'pi', 'pow', 'prod', 'radians', 'remainder', 'sin', 'sinh', 'sqrt', 'tan', 'tanh', 'tau', 'trunc']\n"
     ]
    }
   ],
   "source": [
    "print(dir(math))"
   ]
  },
  {
   "cell_type": "code",
   "execution_count": 144,
   "id": "2124df0e",
   "metadata": {},
   "outputs": [],
   "source": [
    "import random"
   ]
  },
  {
   "cell_type": "code",
   "execution_count": 145,
   "id": "6955a03e",
   "metadata": {},
   "outputs": [
    {
     "name": "stdout",
     "output_type": "stream",
     "text": [
      "['BPF', 'LOG4', 'NV_MAGICCONST', 'RECIP_BPF', 'Random', 'SG_MAGICCONST', 'SystemRandom', 'TWOPI', '_Sequence', '_Set', '__all__', '__builtins__', '__cached__', '__doc__', '__file__', '__loader__', '__name__', '__package__', '__spec__', '_accumulate', '_acos', '_bisect', '_ceil', '_cos', '_e', '_exp', '_inst', '_log', '_os', '_pi', '_random', '_repeat', '_sha512', '_sin', '_sqrt', '_test', '_test_generator', '_urandom', '_warn', 'betavariate', 'choice', 'choices', 'expovariate', 'gammavariate', 'gauss', 'getrandbits', 'getstate', 'lognormvariate', 'normalvariate', 'paretovariate', 'randint', 'random', 'randrange', 'sample', 'seed', 'setstate', 'shuffle', 'triangular', 'uniform', 'vonmisesvariate', 'weibullvariate']\n"
     ]
    }
   ],
   "source": [
    "print(dir(random))"
   ]
  },
  {
   "cell_type": "code",
   "execution_count": 146,
   "id": "e6fd3e4c",
   "metadata": {},
   "outputs": [
    {
     "data": {
      "text/plain": [
       "2"
      ]
     },
     "execution_count": 146,
     "metadata": {},
     "output_type": "execute_result"
    }
   ],
   "source": [
    "random.choice([1, 2, 3, 4, 5, 6, 7])"
   ]
  },
  {
   "cell_type": "code",
   "execution_count": 1,
   "id": "2f48f9d4",
   "metadata": {},
   "outputs": [
    {
     "name": "stdout",
     "output_type": "stream",
     "text": [
      "12\n"
     ]
    }
   ],
   "source": [
    "a=5\n",
    "b=6\n",
    "a=b\n",
    "print(a+b)"
   ]
  },
  {
   "cell_type": "code",
   "execution_count": 2,
   "id": "0c29a53c",
   "metadata": {},
   "outputs": [
    {
     "name": "stdout",
     "output_type": "stream",
     "text": [
      "True\n"
     ]
    }
   ],
   "source": [
    "print(a==b)"
   ]
  },
  {
   "cell_type": "code",
   "execution_count": 3,
   "id": "fe510fad",
   "metadata": {},
   "outputs": [
    {
     "name": "stdout",
     "output_type": "stream",
     "text": [
      "False\n"
     ]
    }
   ],
   "source": [
    "print(a!=b)"
   ]
  },
  {
   "cell_type": "code",
   "execution_count": 7,
   "id": "fbbaadfe",
   "metadata": {},
   "outputs": [
    {
     "name": "stdout",
     "output_type": "stream",
     "text": [
      "32 6\n",
      "38\n",
      "32\n"
     ]
    }
   ],
   "source": [
    "a=32\n",
    "b=6\n",
    "print(a, b)\n",
    "a+=b \n",
    "print(a)\n",
    "a-=b \n",
    "print(a)                          #son sonuc yazmadı"
   ]
  },
  {
   "cell_type": "code",
   "execution_count": 8,
   "id": "032a1ae4",
   "metadata": {},
   "outputs": [
    {
     "name": "stdout",
     "output_type": "stream",
     "text": [
      "0\n"
     ]
    }
   ],
   "source": [
    "a=8\n",
    "b=4\n",
    "print(a&b)"
   ]
  }
 ],
 "metadata": {
  "kernelspec": {
   "display_name": "Python 3",
   "language": "python",
   "name": "python3"
  },
  "language_info": {
   "codemirror_mode": {
    "name": "ipython",
    "version": 3
   },
   "file_extension": ".py",
   "mimetype": "text/x-python",
   "name": "python",
   "nbconvert_exporter": "python",
   "pygments_lexer": "ipython3",
   "version": "3.8.8"
  }
 },
 "nbformat": 4,
 "nbformat_minor": 5
}
