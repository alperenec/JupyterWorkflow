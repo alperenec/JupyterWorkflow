{
 "cells": [
  {
   "cell_type": "code",
   "execution_count": 1,
   "id": "f904c250",
   "metadata": {},
   "outputs": [
    {
     "name": "stdout",
     "output_type": "stream",
     "text": [
      "Birinci sayıyı gir:6\n",
      "İkinci sayıyı gir:9\n"
     ]
    }
   ],
   "source": [
    "a=input(\"Birinci sayıyı gir:\")\n",
    "b=input(\"İkinci sayıyı gir:\")"
   ]
  },
  {
   "cell_type": "code",
   "execution_count": 2,
   "id": "61b356c2",
   "metadata": {},
   "outputs": [
    {
     "name": "stdout",
     "output_type": "stream",
     "text": [
      "69\n"
     ]
    }
   ],
   "source": [
    "print(a+b)"
   ]
  },
  {
   "cell_type": "code",
   "execution_count": 3,
   "id": "a14a2f08",
   "metadata": {},
   "outputs": [
    {
     "name": "stdout",
     "output_type": "stream",
     "text": [
      "15\n"
     ]
    }
   ],
   "source": [
    "print(int(a)+int(b))"
   ]
  },
  {
   "cell_type": "code",
   "execution_count": 8,
   "id": "a3aec098",
   "metadata": {},
   "outputs": [
    {
     "name": "stdout",
     "output_type": "stream",
     "text": [
      "Akımı girin:10\n",
      "Direnci girin:28\n",
      "Devre Voltu=  280\n"
     ]
    }
   ],
   "source": [
    "I=input(\"Akımı girin:\")\n",
    "R=input(\"Direnci girin:\")\n",
    "print(\"Devre Voltu= \", int(I)*int(R))"
   ]
  },
  {
   "cell_type": "code",
   "execution_count": 11,
   "id": "9d23c94e",
   "metadata": {},
   "outputs": [
    {
     "name": "stdout",
     "output_type": "stream",
     "text": [
      "Kısa kenarı girin:7\n",
      "Uzun kenarı girin:9\n",
      "Dikdörtgen Çevresi= 32\n",
      "Dikdörtgen Alanı= 63\n"
     ]
    }
   ],
   "source": [
    "a=input(\"Kısa kenarı girin:\")\n",
    "b=input(\"Uzun kenarı girin:\")\n",
    "print(\"Dikdörtgen Çevresi=\", 2*int(a)+2*int(b))\n",
    "print(\"Dikdörtgen Alanı=\", int(a)*int(b))"
   ]
  },
  {
   "cell_type": "code",
   "execution_count": 15,
   "id": "ba6f40e9",
   "metadata": {},
   "outputs": [
    {
     "name": "stdout",
     "output_type": "stream",
     "text": [
      "Yarıçapı girin:8\n",
      "Daire Alanı= 200.96\n",
      "Daire Çevresi= 50.24\n"
     ]
    }
   ],
   "source": [
    "r=input(\"Yarıçapı girin:\")\n",
    "pi=3.14\n",
    "print(\"Daire Alanı=\", pi*int(r)*int(r))\n",
    "print(\"Daire Çevresi=\", 2*pi*int(r))\n"
   ]
  },
  {
   "cell_type": "code",
   "execution_count": 17,
   "id": "09a74506",
   "metadata": {},
   "outputs": [
    {
     "name": "stdout",
     "output_type": "stream",
     "text": [
      "Yüzlük notu giriniz=80\n",
      "5'lik karşılığı= 4.0\n"
     ]
    }
   ],
   "source": [
    "Not=input(\"Yüzlük notu giriniz=\")\n",
    "print(\"5'lik karşılığı=\", int(Not)/20)"
   ]
  },
  {
   "cell_type": "code",
   "execution_count": 21,
   "id": "fb98f569",
   "metadata": {},
   "outputs": [
    {
     "name": "stdout",
     "output_type": "stream",
     "text": [
      "Fiyat girin:180\n",
      "KDV oranı girin(%):18\n",
      "Ödeyeceğiniz tutar: 212.4\n"
     ]
    }
   ],
   "source": [
    "F=input(\"Fiyat girin:\")\n",
    "V=input(\"KDV oranı girin(%):\")\n",
    "print(\"Ödeyeceğiniz tutar:\", int(F) + int(F)*int(V)/100)"
   ]
  },
  {
   "cell_type": "code",
   "execution_count": 25,
   "id": "c4fdd9ed",
   "metadata": {},
   "outputs": [
    {
     "name": "stdout",
     "output_type": "stream",
     "text": [
      "Ürün geliş fiyatı:100\n",
      "KDV(%):18\n",
      "İstenen kar oranı:20\n",
      "Satış fiyatı= 138.0\n"
     ]
    }
   ],
   "source": [
    "U=input(\"Ürün geliş fiyatı:\")\n",
    "V=input(\"KDV(%):\")\n",
    "K=input(\"İstenen kar oranı:\")\n",
    "print(\"Satış fiyatı=\",int(U)+int(U)*int(V)/100+int(U)*int(K)/100)"
   ]
  },
  {
   "cell_type": "code",
   "execution_count": 27,
   "id": "d510cf28",
   "metadata": {},
   "outputs": [
    {
     "name": "stdout",
     "output_type": "stream",
     "text": [
      "3 basmaklı sayı girin:987\n",
      "yüzler: 9 onlar: 8 birler: 7\n",
      "789\n"
     ]
    }
   ],
   "source": [
    "sayi=int(input(\"3 basmaklı sayı girin:\"))\n",
    "a=int(sayi/100)                                            #sayi//100 da olur\n",
    "b=int(int(sayi-a*100)/10)\n",
    "c=sayi%10\n",
    "print(\"yüzler:\",a,\"onlar:\",b,\"birler:\",c)\n",
    "print(str(c)+str(b)+str(a))                                        #tersten yazdırma"
   ]
  },
  {
   "cell_type": "code",
   "execution_count": 32,
   "id": "5a0511d8",
   "metadata": {},
   "outputs": [
    {
     "name": "stdout",
     "output_type": "stream",
     "text": [
      "Gün sayısı girin:777\n",
      "2 yıldır\n",
      "25 aydır\n"
     ]
    }
   ],
   "source": [
    "sayi=int(input(\"Gün sayısı girin:\"))\n",
    "print(sayi//365, \"yıldır\")\n",
    "print(sayi//30, \"aydır\")"
   ]
  },
  {
   "cell_type": "code",
   "execution_count": null,
   "id": "f636381b",
   "metadata": {},
   "outputs": [],
   "source": []
  }
 ],
 "metadata": {
  "kernelspec": {
   "display_name": "Python 3",
   "language": "python",
   "name": "python3"
  },
  "language_info": {
   "codemirror_mode": {
    "name": "ipython",
    "version": 3
   },
   "file_extension": ".py",
   "mimetype": "text/x-python",
   "name": "python",
   "nbconvert_exporter": "python",
   "pygments_lexer": "ipython3",
   "version": "3.8.8"
  }
 },
 "nbformat": 4,
 "nbformat_minor": 5
}
