{
 "cells": [
  {
   "cell_type": "code",
   "execution_count": 12,
   "id": "26e7e34d",
   "metadata": {},
   "outputs": [
    {
     "name": "stdout",
     "output_type": "stream",
     "text": [
      "Fibonacci sayısının ilk n terimi için, n=4\n",
      "0 1 1 2 3 "
     ]
    }
   ],
   "source": [
    "n= int(input(\"Fibonacci sayısının ilk n terimi için, n=\"))\n",
    "\n",
    "#Fibonacci serisi önceki iki elemanın toplamı şeklinde bulunur.\n",
    "#F(n)=F(n-1)+F(n-2)\n",
    "#\n",
    "#n=6\n",
    "#0 1 2 3 4 5 6 7 ...\n",
    "#0 1 1 2 3 5 8 13\n",
    "\n",
    "A=0\n",
    "print(A,end=\" \")\n",
    "B=1\n",
    "print(B,end=\" \")\n",
    "for i in range(n-1):\n",
    "    F=A+B\n",
    "    print(F,end=\" \")\n",
    "    A=B\n",
    "    B=F"
   ]
  },
  {
   "cell_type": "code",
   "execution_count": 2,
   "id": "fb539d10",
   "metadata": {},
   "outputs": [
    {
     "name": "stdout",
     "output_type": "stream",
     "text": [
      "Sayı giriniz:9\n",
      "Sayı giriniz:5\n",
      "Sayı giriniz:3\n",
      "Sayı giriniz:2\n",
      "Sayı giriniz:-9\n",
      "Sayı giriniz:-8\n",
      "Sayı giriniz:-2\n",
      "Sayı giriniz:0\n",
      "Sayı giriniz:9\n",
      "Sayı giriniz:0\n",
      "p= 5\n",
      "n= 3\n",
      "s= 2\n"
     ]
    }
   ],
   "source": [
    "#Girilen 10sayıdan kaçı pozitif, negatif, 0 bulan program\n",
    "p=0\n",
    "n=0\n",
    "s=0\n",
    "for i in range(10):\n",
    "    sayi=int(input(\"Sayı giriniz:\"))\n",
    "    if sayi>0:\n",
    "        p=p+1\n",
    "    else:\n",
    "        if sayi<0:\n",
    "            n=n+1\n",
    "        else:\n",
    "            s=s+1\n",
    "print(\"p=\",p)\n",
    "print(\"n=\",n)\n",
    "print(\"s=\",s)\n"
   ]
  },
  {
   "cell_type": "code",
   "execution_count": 15,
   "id": "346df421",
   "metadata": {},
   "outputs": [
    {
     "name": "stdout",
     "output_type": "stream",
     "text": [
      "Bir sayı gir:5\n",
      "0\n",
      "1\n",
      "1\n",
      "2\n",
      "3\n"
     ]
    }
   ],
   "source": [
    "#Fibonacci başka şekilde\n",
    "a,b = 0,1\n",
    "x=int(input(\"Bir sayı gir:\"))\n",
    "while a<x:\n",
    "      print(a)\n",
    "      a,b=b,a+b"
   ]
  },
  {
   "cell_type": "code",
   "execution_count": 16,
   "id": "4e7d3a57",
   "metadata": {},
   "outputs": [
    {
     "name": "stdout",
     "output_type": "stream",
     "text": [
      "se:3\n",
      "te:3\n",
      "ad:3\n",
      "18 "
     ]
    }
   ],
   "source": [
    "#serinin ilk elemanı, elemen sayısı, artış değeri girildiğinde toplamı çalıştıran program\n",
    "se=int(input(\"se:\"))\n",
    "te=int(input(\"te:\"))\n",
    "ad=int(input(\"ad:\"))\n",
    "ss=se\n",
    "top=se\n",
    "for i in range(te-1):\n",
    "    top=top+ad\n",
    "    ss=ss+top\n",
    "print(ss,end=\" \")"
   ]
  },
  {
   "cell_type": "code",
   "execution_count": 7,
   "id": "a80f58de",
   "metadata": {},
   "outputs": [
    {
     "name": "stdout",
     "output_type": "stream",
     "text": [
      "se:3\n",
      "te:4\n",
      "ad:5\n",
      "3+8+13+18=42\n"
     ]
    }
   ],
   "source": [
    "se=int(input(\"se:\"))\n",
    "te=int(input(\"te:\"))\n",
    "ad=int(input(\"ad:\"))\n",
    "ss=se\n",
    "top=se\n",
    "print(top,end=\"+\")\n",
    "for i in range(te-1):\n",
    "    top=top+ad\n",
    "    ss=ss+top\n",
    "    if i == te-2:\n",
    "        print(top, end=\"=\")\n",
    "    else:\n",
    "        print(top,end=\"+\")\n",
    "print(ss)"
   ]
  },
  {
   "cell_type": "code",
   "execution_count": 2,
   "id": "b652b21d",
   "metadata": {},
   "outputs": [
    {
     "name": "stdout",
     "output_type": "stream",
     "text": [
      "Serinin ilk elemanı:5\n",
      "Eleman sayısı:4\n",
      "Artış değeri:6\n",
      "56\n"
     ]
    }
   ],
   "source": [
    "ie = int(input(\"Serinin ilk elemanı:\"))\n",
    "es = int(input(\"Eleman sayısı:\"))\n",
    "ad = int(input(\"Artış değeri:\"))\n",
    "\n",
    "ss=ie\n",
    "top=ie\n",
    "for i in range(es-1):\n",
    "    top=top+ad\n",
    "    ss=ss+top\n",
    "print(ss,)"
   ]
  },
  {
   "cell_type": "code",
   "execution_count": 9,
   "id": "41ed5e59",
   "metadata": {},
   "outputs": [
    {
     "name": "stdout",
     "output_type": "stream",
     "text": [
      "ilk elemanı gir:5\n",
      "terim sayısı gir:4\n",
      "artış değeri gir:2\n",
      "5+7+9+11=32\n"
     ]
    }
   ],
   "source": [
    "ie=int(input(\"ilk elemanı gir:\"))\n",
    "ts=int(input(\"terim sayısı gir:\"))\n",
    "ad=int(input(\"artış değeri gir:\"))\n",
    "ss=ie\n",
    "top=ie\n",
    "print(top,end=\"+\")\n",
    "for i in range(ts-1):\n",
    "    top=top+ad\n",
    "    ss=ss+top\n",
    "    if i == (ts-2):\n",
    "        print(top,end=\"=\")\n",
    "    else:\n",
    "        print(top,end=\"+\")\n",
    "print(ss)"
   ]
  },
  {
   "cell_type": "code",
   "execution_count": 5,
   "id": "10aa01a6",
   "metadata": {},
   "outputs": [
    {
     "name": "stdout",
     "output_type": "stream",
     "text": [
      "Fibonacci sayısının ilk n değeri için, n=4\n",
      "0 1 1 2 3 "
     ]
    }
   ],
   "source": [
    "n= int(input(\"Fibonacci sayısının ilk n değeri için, n=\"))\n",
    "A=0\n",
    "print(A, end=\" \")\n",
    "B=1\n",
    "print(B, end=\" \")\n",
    "for i in range(n-1):\n",
    "    F=A+B\n",
    "    print(F, end=\" \")\n",
    "    A=B\n",
    "    B=F"
   ]
  },
  {
   "cell_type": "code",
   "execution_count": 8,
   "id": "5afb0d32",
   "metadata": {},
   "outputs": [
    {
     "name": "stdout",
     "output_type": "stream",
     "text": [
      "Sayı girin:5\n",
      "Sayı girin:6\n",
      "Sayı girin:5\n",
      "Sayı girin:5\n",
      "Sayı girin:5\n",
      "Sayı girin:0\n",
      "Sayı girin:0\n",
      "Sayı girin:0\n",
      "Sayı girin:-9\n",
      "Sayı girin:-9\n",
      "pozitif sayı miktarı: 5\n",
      "negatif sayı miktarı: 2\n",
      "sıfır sayı miktarı: 3\n"
     ]
    }
   ],
   "source": [
    "p=0\n",
    "n=0\n",
    "s=0\n",
    "for i in range(10):\n",
    "    sayi=int(input(\"Sayı girin:\"))\n",
    "    if sayi>0:\n",
    "        p=p+1\n",
    "    else:\n",
    "        if sayi<0:\n",
    "            n=n+1\n",
    "        else:\n",
    "            s=s+1\n",
    "print(\"pozitif sayı miktarı:\",p)\n",
    "print(\"negatif sayı miktarı:\",n)\n",
    "print(\"sıfır sayı miktarı:\",s)\n"
   ]
  },
  {
   "cell_type": "code",
   "execution_count": 10,
   "id": "2a784fef",
   "metadata": {},
   "outputs": [
    {
     "name": "stdout",
     "output_type": "stream",
     "text": [
      "serinin ilk elemanı:5\n",
      "toplam eleman sayısı:4\n",
      "artış değeri:2\n",
      "5 7 9 11 "
     ]
    }
   ],
   "source": [
    "#other way\n",
    "a=int(input(\"serinin ilk elemanı:\"))\n",
    "b=int(input(\"toplam eleman sayısı:\"))\n",
    "c=int(input(\"artış değeri:\"))\n",
    "for i in range(a,b*c+a,c):    #start,stop,step\n",
    "    print(i,end=\" \")"
   ]
  },
  {
   "cell_type": "code",
   "execution_count": 9,
   "id": "2fa1e361",
   "metadata": {},
   "outputs": [
    {
     "name": "stdout",
     "output_type": "stream",
     "text": [
      "5 5 5\n",
      "5 operatörü tanımlanmamıştır\n"
     ]
    }
   ],
   "source": [
    "ifade = input()\n",
    "parca = ifade.split()\n",
    "sayi1 = int(parca[0])\n",
    "matOp = parca[1]\n",
    "sayi2 = int(parca[2])\n",
    "if matOp == \"+\":\n",
    "    print(sayi1 + sayi2)\n",
    "elif matOp == \"-\":\n",
    "    print(sayi1 - sayi2)\n",
    "elif matOp == \"*\":\n",
    "    print(sayi1 * sayi2)\n",
    "elif matOp == \"/\":\n",
    "    print(sayi1 / sayi2)\n",
    "else:\n",
    "    print(matOp , \"operatörü tanımlanmamıştır\")"
   ]
  },
  {
   "cell_type": "code",
   "execution_count": 10,
   "id": "063cc31b",
   "metadata": {},
   "outputs": [
    {
     "data": {
      "text/plain": [
       "['Ali', 'topu', 'tut', 'Fatma', 'sobayı', 'yak']"
      ]
     },
     "execution_count": 10,
     "metadata": {},
     "output_type": "execute_result"
    }
   ],
   "source": [
    "\"Ali topu tut Fatma sobayı yak\".split()"
   ]
  },
  {
   "cell_type": "code",
   "execution_count": 13,
   "id": "cec663e2",
   "metadata": {},
   "outputs": [
    {
     "name": "stdout",
     "output_type": "stream",
     "text": [
      "6 + 8\n",
      "14\n"
     ]
    }
   ],
   "source": [
    "ifade = input()\n",
    "parca = ifade.split()\n",
    "sayi1 = int(parca[0])\n",
    "matOp = parca[1]\n",
    "sayi2 = int(parca[2])\n",
    "if matOp == \"+\":\n",
    "    print(sayi1 + sayi2)\n",
    "elif matOp == \"-\":\n",
    "    print(sayi1 - sayi2)\n",
    "elif matOp == \"*\":\n",
    "    print(sayi1 * sayi2)\n",
    "elif matOp == \"/\":\n",
    "    print(sayi1 / sayi2)\n",
    "else:\n",
    "     print(matOp, \"operatörü tanımlanmamıştır\")"
   ]
  },
  {
   "cell_type": "code",
   "execution_count": 3,
   "id": "a9dfdcdd",
   "metadata": {},
   "outputs": [
    {
     "name": "stdout",
     "output_type": "stream",
     "text": [
      "6 * 8\n",
      "48\n"
     ]
    }
   ],
   "source": [
    "ifade = input()\n",
    "parca = ifade.split()\n",
    "sayi1 = int(parca[0])\n",
    "matOp = parca[1]\n",
    "sayi2 = int(parca[2])\n",
    "if matOp == \"+\":\n",
    "    print(sayi1 + sayi2)\n",
    "elif matOp == \"-\":\n",
    "    print(sayi1 - sayi2)\n",
    "elif matOp == \"*\":\n",
    "    print(sayi1 * sayi2)\n",
    "elif matOp == \"/\":\n",
    "    print(sayi1 / sayi2)\n",
    "else:\n",
    "    print(matOp, \"operatörü kullanım dışıdır\")\n",
    "    "
   ]
  },
  {
   "cell_type": "code",
   "execution_count": 6,
   "id": "1ba93c72",
   "metadata": {},
   "outputs": [
    {
     "data": {
      "text/plain": [
       "['Clap',\n",
       " 'along',\n",
       " 'if',\n",
       " 'you',\n",
       " 'feel',\n",
       " 'like',\n",
       " 'a',\n",
       " 'room',\n",
       " 'without',\n",
       " 'a',\n",
       " 'roof']"
      ]
     },
     "execution_count": 6,
     "metadata": {},
     "output_type": "execute_result"
    }
   ],
   "source": [
    "\"Clap along if you feel like a room without a roof\".split()"
   ]
  },
  {
   "cell_type": "code",
   "execution_count": 7,
   "id": "53c9135c",
   "metadata": {},
   "outputs": [
    {
     "name": "stdout",
     "output_type": "stream",
     "text": [
      "0, 1, 2, 3, 4, "
     ]
    }
   ],
   "source": [
    "for x in range(5):\n",
    "    print(x, end=\", \")"
   ]
  },
  {
   "cell_type": "code",
   "execution_count": 15,
   "id": "7f3966c9",
   "metadata": {},
   "outputs": [
    {
     "name": "stdout",
     "output_type": "stream",
     "text": [
      "0, 1, 2, 3, 4, "
     ]
    }
   ],
   "source": [
    "x=0\n",
    "while x<5:\n",
    "    print(x, end=\", \")\n",
    "    x += 1"
   ]
  },
  {
   "cell_type": "code",
   "execution_count": 16,
   "id": "6044e044",
   "metadata": {},
   "outputs": [
    {
     "name": "stdout",
     "output_type": "stream",
     "text": [
      "5\n",
      "7\n",
      "9\n"
     ]
    }
   ],
   "source": [
    "for x in range(5,10,2):   #start,stop,step\n",
    "    print(x)"
   ]
  },
  {
   "cell_type": "code",
   "execution_count": 18,
   "id": "40e2457c",
   "metadata": {},
   "outputs": [
    {
     "name": "stdout",
     "output_type": "stream",
     "text": [
      "0\n",
      "1\n",
      "2\n",
      "3\n",
      "4\n",
      "5\n",
      "işlem tamamlandı\n"
     ]
    }
   ],
   "source": [
    "for x in range(6):\n",
    "    print(x)\n",
    "else:\n",
    "        print(\"işlem tamamlandı\")"
   ]
  },
  {
   "cell_type": "code",
   "execution_count": 1,
   "id": "6a10a6de",
   "metadata": {},
   "outputs": [
    {
     "name": "stdout",
     "output_type": "stream",
     "text": [
      "elma.\n",
      "muz.\n",
      "kayısı.\n"
     ]
    }
   ],
   "source": [
    "meyveler = [\"elma\", \"muz\", \"kayısı\"]\n",
    "for meyve in meyveler:\n",
    "    print(meyve + \".\")"
   ]
  },
  {
   "cell_type": "code",
   "execution_count": 23,
   "id": "17fba1f8",
   "metadata": {},
   "outputs": [
    {
     "name": "stdout",
     "output_type": "stream",
     "text": [
      "elma.\n",
      "muz.\n",
      "kayısı.\n"
     ]
    }
   ],
   "source": [
    "meyveler = [\"elma\", \"muz\", \"kayısı\"]\n",
    "i = 0\n",
    "while len(meyveler) > i:\n",
    "    print(meyveler[i] + \".\")\n",
    "    i += 1"
   ]
  },
  {
   "cell_type": "code",
   "execution_count": 24,
   "id": "1f70abe2",
   "metadata": {},
   "outputs": [
    {
     "name": "stdout",
     "output_type": "stream",
     "text": [
      "elma\n",
      "armut\n",
      "kiraz\n"
     ]
    }
   ],
   "source": [
    "dictMeyve = {\"elma\": 0.4, \"armut\": 0.56, \"kiraz\":1.12}\n",
    "for key in dictMeyve:\n",
    "    print(key)"
   ]
  },
  {
   "cell_type": "code",
   "execution_count": 26,
   "id": "21353022",
   "metadata": {},
   "outputs": [
    {
     "name": "stdout",
     "output_type": "stream",
     "text": [
      "0.4\n",
      "0.56\n",
      "1.12\n"
     ]
    }
   ],
   "source": [
    "for value in dictMeyve.values():\n",
    "    print(value)"
   ]
  },
  {
   "cell_type": "code",
   "execution_count": 27,
   "id": "4eeb25d6",
   "metadata": {},
   "outputs": [
    {
     "name": "stdout",
     "output_type": "stream",
     "text": [
      "('elma', 0.4) <class 'tuple'>\n",
      "('armut', 0.56) <class 'tuple'>\n",
      "('kiraz', 1.12) <class 'tuple'>\n"
     ]
    }
   ],
   "source": [
    "for item in dictMeyve.items():\n",
    "    print(item, type(item))"
   ]
  },
  {
   "cell_type": "code",
   "execution_count": 28,
   "id": "1e38a19c",
   "metadata": {},
   "outputs": [
    {
     "name": "stdout",
     "output_type": "stream",
     "text": [
      "elma => 0.4\n",
      "armut => 0.56\n",
      "kiraz => 1.12\n"
     ]
    }
   ],
   "source": [
    "for key, value in dictMeyve.items():\n",
    "    print(key, \"=>\", value)"
   ]
  },
  {
   "cell_type": "code",
   "execution_count": 30,
   "id": "1d266be2",
   "metadata": {},
   "outputs": [
    {
     "name": "stdout",
     "output_type": "stream",
     "text": [
      "elma.\n",
      "son\n"
     ]
    }
   ],
   "source": [
    "meyveler = [\"elma\",\"muz\",\"kiraz\"]\n",
    "for meyve in meyveler:\n",
    "    if meyve == \"muz\":\n",
    "        break\n",
    "    print(meyve+\".\")\n",
    "print(\"son\")"
   ]
  },
  {
   "cell_type": "code",
   "execution_count": 32,
   "id": "b6ff18ac",
   "metadata": {},
   "outputs": [
    {
     "name": "stdout",
     "output_type": "stream",
     "text": [
      "y..\n",
      "o..\n",
      "u..\n",
      "r..\n",
      "t..\n",
      "son\n"
     ]
    }
   ],
   "source": [
    "for x in \"yogurt\":\n",
    "    if x == \"g\":\n",
    "        continue\n",
    "    x= x + \"..\"\n",
    "    print(x)\n",
    "print(\"son\")"
   ]
  },
  {
   "cell_type": "code",
   "execution_count": 2,
   "id": "b6b04a3f",
   "metadata": {},
   "outputs": [
    {
     "name": "stdout",
     "output_type": "stream",
     "text": [
      "k\n",
      "a\n",
      "y\n",
      "i\n",
      "s\n"
     ]
    }
   ],
   "source": [
    "for x in \"kayisi\":\n",
    "    print(x)\n",
    "    if x == \"s\":\n",
    "        break"
   ]
  },
  {
   "cell_type": "code",
   "execution_count": 4,
   "id": "3051f374",
   "metadata": {},
   "outputs": [
    {
     "name": "stdout",
     "output_type": "stream",
     "text": [
      "beyaz silgi\n",
      "beyaz kalem\n",
      "beyaz defter\n",
      "kırmızı silgi\n",
      "kırmızı kalem\n",
      "kırmızı defter\n"
     ]
    }
   ],
   "source": [
    "renkler = [\"beyaz\",\"kırmızı\"]\n",
    "malzemeler = [\"silgi\",\"kalem\",\"defter\"]\n",
    "for renk in renkler:\n",
    "    for malzeme in malzemeler:\n",
    "        print(renk,malzeme)"
   ]
  },
  {
   "cell_type": "code",
   "execution_count": 5,
   "id": "345ce502",
   "metadata": {},
   "outputs": [
    {
     "name": "stdout",
     "output_type": "stream",
     "text": [
      "beyaz silgi\n",
      "kırmızı silgi\n",
      "beyaz kalem\n",
      "kırmızı kalem\n",
      "beyaz defter\n",
      "kırmızı defter\n"
     ]
    }
   ],
   "source": [
    "for malzeme in malzemeler:\n",
    "    for renk in renkler:\n",
    "        print(renk,malzeme)"
   ]
  },
  {
   "cell_type": "code",
   "execution_count": 6,
   "id": "688060bc",
   "metadata": {},
   "outputs": [
    {
     "name": "stdout",
     "output_type": "stream",
     "text": [
      "son\n"
     ]
    }
   ],
   "source": [
    "for x in [1,2,3,4,5]:\n",
    "    pass\n",
    "print(\"son\")"
   ]
  },
  {
   "cell_type": "code",
   "execution_count": 8,
   "id": "55741f8a",
   "metadata": {},
   "outputs": [
    {
     "data": {
      "text/plain": [
       "'silgi'"
      ]
     },
     "execution_count": 8,
     "metadata": {},
     "output_type": "execute_result"
    }
   ],
   "source": [
    "malzemeler = [\"silgi\",\"kalem\",\"defter\"]\n",
    "itr = iter(malzemeler)\n",
    "next(itr)"
   ]
  },
  {
   "cell_type": "code",
   "execution_count": 9,
   "id": "e6458a26",
   "metadata": {},
   "outputs": [
    {
     "data": {
      "text/plain": [
       "'kalem'"
      ]
     },
     "execution_count": 9,
     "metadata": {},
     "output_type": "execute_result"
    }
   ],
   "source": [
    "next(itr)"
   ]
  },
  {
   "cell_type": "code",
   "execution_count": 10,
   "id": "4d5630f8",
   "metadata": {},
   "outputs": [
    {
     "data": {
      "text/plain": [
       "'defter'"
      ]
     },
     "execution_count": 10,
     "metadata": {},
     "output_type": "execute_result"
    }
   ],
   "source": [
    "next(itr)"
   ]
  },
  {
   "cell_type": "code",
   "execution_count": 12,
   "id": "4bdbe375",
   "metadata": {},
   "outputs": [
    {
     "name": "stdout",
     "output_type": "stream",
     "text": [
      "No object found\n"
     ]
    }
   ],
   "source": [
    "chars = [\"a\",\"b\",\"c\",\"d\"]\n",
    "key=\"k\"\n",
    "for ch in chars:\n",
    "    if ch == key:\n",
    "        break\n",
    "else:\n",
    "    print(\"No object found\")"
   ]
  },
  {
   "cell_type": "code",
   "execution_count": 14,
   "id": "177eac8a",
   "metadata": {},
   "outputs": [
    {
     "name": "stdout",
     "output_type": "stream",
     "text": [
      "No object found\n"
     ]
    }
   ],
   "source": [
    "key = \"k\"\n",
    "notFound = True\n",
    "for ch in chars:\n",
    "    if ch == key:\n",
    "        notFound = False\n",
    "        break\n",
    "if notFound:\n",
    "    print(\"No object found\")"
   ]
  },
  {
   "cell_type": "code",
   "execution_count": 17,
   "id": "c666f608",
   "metadata": {},
   "outputs": [
    {
     "name": "stdout",
     "output_type": "stream",
     "text": [
      "1\n",
      "3\n",
      "5\n",
      "7\n",
      "9\n",
      "11\n",
      "13\n",
      "15\n",
      "17\n",
      "19\n",
      "21\n",
      "23\n",
      "25\n",
      "27\n",
      "29\n",
      "31\n",
      "33\n",
      "35\n",
      "37\n",
      "39\n",
      "41\n",
      "43\n",
      "45\n",
      "47\n",
      "49\n",
      "51\n",
      "53\n",
      "55\n",
      "57\n",
      "59\n",
      "61\n",
      "63\n",
      "65\n",
      "67\n",
      "69\n",
      "71\n",
      "73\n",
      "75\n",
      "77\n",
      "79\n",
      "81\n",
      "83\n",
      "85\n",
      "87\n",
      "89\n",
      "91\n",
      "93\n",
      "95\n",
      "97\n",
      "99\n"
     ]
    }
   ],
   "source": [
    "for i in range(1,101,2):\n",
    "    print(i)"
   ]
  },
  {
   "cell_type": "code",
   "execution_count": 18,
   "id": "9cf978a9",
   "metadata": {},
   "outputs": [
    {
     "name": "stdout",
     "output_type": "stream",
     "text": [
      "0\n",
      "2\n",
      "4\n",
      "6\n",
      "8\n",
      "10\n",
      "12\n",
      "14\n",
      "16\n",
      "18\n",
      "20\n",
      "22\n",
      "24\n",
      "26\n",
      "28\n",
      "30\n",
      "32\n",
      "34\n",
      "36\n",
      "38\n",
      "40\n",
      "42\n",
      "44\n",
      "46\n",
      "48\n",
      "50\n",
      "52\n",
      "54\n",
      "56\n",
      "58\n",
      "60\n",
      "62\n",
      "64\n",
      "66\n",
      "68\n",
      "70\n",
      "72\n",
      "74\n",
      "76\n",
      "78\n",
      "80\n",
      "82\n",
      "84\n",
      "86\n",
      "88\n",
      "90\n",
      "92\n",
      "94\n",
      "96\n",
      "98\n",
      "100\n"
     ]
    }
   ],
   "source": [
    "for i in range(101):\n",
    "    if i%2 ==0 :\n",
    "        print(i)"
   ]
  },
  {
   "cell_type": "code",
   "execution_count": null,
   "id": "88fffd82",
   "metadata": {},
   "outputs": [],
   "source": []
  }
 ],
 "metadata": {
  "kernelspec": {
   "display_name": "Python 3",
   "language": "python",
   "name": "python3"
  },
  "language_info": {
   "codemirror_mode": {
    "name": "ipython",
    "version": 3
   },
   "file_extension": ".py",
   "mimetype": "text/x-python",
   "name": "python",
   "nbconvert_exporter": "python",
   "pygments_lexer": "ipython3",
   "version": "3.8.8"
  }
 },
 "nbformat": 4,
 "nbformat_minor": 5
}
